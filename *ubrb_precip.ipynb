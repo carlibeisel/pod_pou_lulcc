{
  "nbformat": 4,
  "nbformat_minor": 0,
  "metadata": {
    "colab": {
      "provenance": [],
      "authorship_tag": "ABX9TyMU+hYMcM6esjGJJHL/jlUw",
      "include_colab_link": true
    },
    "kernelspec": {
      "name": "python3",
      "display_name": "Python 3"
    },
    "language_info": {
      "name": "python"
    }
  },
  "cells": [
    {
      "cell_type": "markdown",
      "metadata": {
        "id": "view-in-github",
        "colab_type": "text"
      },
      "source": [
        "<a href=\"https://colab.research.google.com/github/carlibeisel/pod_pou_lulcc/blob/main/*ubrb_precip.ipynb\" target=\"_parent\"><img src=\"https://colab.research.google.com/assets/colab-badge.svg\" alt=\"Open In Colab\"/></a>"
      ]
    },
    {
      "cell_type": "markdown",
      "source": [
        "Created by Carli Beisel\n",
        "\n",
        "Purpose: This script extracts annual precipitation data from Google Earth Engine using the Earth Engine API in Python for the Upper Boise River Basin."
      ],
      "metadata": {
        "id": "HT3cBhMFzZLo"
      }
    },
    {
      "cell_type": "markdown",
      "source": [
        "## Import packages/libraries and connect to Google drive"
      ],
      "metadata": {
        "id": "OPlkwql7zhWU"
      }
    },
    {
      "cell_type": "code",
      "execution_count": null,
      "metadata": {
        "id": "OZuyKBKXzSQd"
      },
      "outputs": [],
      "source": [
        "# Installs geemap package\n",
        "import subprocess\n",
        "!pip install geemap\n",
        "\n",
        "try:\n",
        "    import geemap\n",
        "except ImportError:\n",
        "    print('geemap package not installed. Installing ...')\n",
        "    subprocess.check_call([\"python\", '-m', 'pip', 'install', 'geemap'])\n",
        "\n",
        "# Checks whether this notebook is running on Google Colab\n",
        "try:\n",
        "    import google.colab\n",
        "    import geemap.eefolium as emap\n",
        "except:\n",
        "    import geemap as emap\n",
        "\n",
        "# Authenticates and initializes Earth Engine\n",
        "import ee\n",
        "\n",
        "try:\n",
        "    ee.Initialize()\n",
        "except Exception as e:\n",
        "    ee.Authenticate()\n",
        "    ee.Initialize(project = 'extract-gridmet') #input and create project on google earth engiine"
      ]
    },
    {
      "cell_type": "code",
      "source": [
        "!pip install geopandas\n",
        "import geopandas as gpd\n",
        "import json\n",
        "import os\n",
        "import numpy as np\n",
        "import pandas as pd\n",
        "!pip install pycrs\n",
        "import matplotlib.pyplot as plt\n",
        "import seaborn as sns\n",
        "\n",
        "from google.colab import drive\n",
        "drive.mount('/content/drive')"
      ],
      "metadata": {
        "id": "qx-qKnMyzlbC"
      },
      "execution_count": null,
      "outputs": []
    },
    {
      "cell_type": "markdown",
      "source": [
        "## Retrieve Water Year Precipitation for UBRB"
      ],
      "metadata": {
        "id": "0WBfyYgKzsk8"
      }
    },
    {
      "cell_type": "code",
      "source": [
        "## ------------------------------------------------- ##\n",
        "##        WATER YEAR PRECIPITATION METRIC            ##\n",
        "## ------------------------------------------------- ##\n",
        "\n",
        "# NOTE: wy = Water Year: October 1 - September 30\n",
        "\n",
        "\n",
        "ubrb = emap.shp_to_ee('/content/drive/MyDrive/Data/GIS Shapefiles/UBRB_shp/UBRB.shp')\n",
        "\n",
        "years = np.arange(1987,2021)\n",
        "wy_pr = []\n",
        "\n",
        "for i in range(len(years)):\n",
        "  daymet = ee.ImageCollection(\"NASA/ORNL/DAYMET_V4\").filterDate((str(years[i]-1)+'-10-01'), (str(years[i])+'-9-30')) #get image collection for water year\n",
        "  pr = daymet.select('prcp').map(lambda image: image.clip(ubrb)).sum().set({'system:index': str(years[i])}) #select precip to analyze and sum\n",
        "  wy_pr.append(pr)\n",
        "\n",
        "wy_pr = ee.ImageCollection(wy_pr)\n",
        "\n",
        "\n",
        "out_stats = os.path.join('/content/drive/MyDrive/Data/Model Modifications/UBRB_precip/ubrb_prcp.csv')\n",
        "emap.zonal_statistics(wy_pr, ubrb, out_stats, statistics_type='MEAN', scale=1000)"
      ],
      "metadata": {
        "id": "gVbd_sx5zohH"
      },
      "execution_count": null,
      "outputs": []
    },
    {
      "cell_type": "code",
      "source": [
        "#---------------------#\n",
        "#        Clean        #\n",
        "#---------------------#\n",
        "#Purpose: reorganize csv file to make manageable\n",
        "\n",
        "#reload file\n",
        "data = pd.read_csv('/content/drive/MyDrive/Data/Model Modifications/UBRB_precip/ubrb_prcp.csv')\n",
        "\n",
        "df = pd.DataFrame(data)\n",
        "df = df.T #transpose df\n",
        "\n",
        "# Set the first row as the column names\n",
        "df.columns = df.iloc[0]\n",
        "df = df[0:]\n",
        "df = df.drop(df.index[34:]) #drop the last few lines of data description\n",
        "\n",
        "# Reset index and rename columns\n",
        "df = df.reset_index()\n",
        "df.columns = ['year', 'precip']\n",
        "\n",
        "# Remove '_prcp' from the 'year' column\n",
        "df['year'] = df['year'].str.replace('_prcp', '')\n",
        "\n",
        "print(df)\n",
        "\n",
        "#save\n",
        "df.to_csv('/content/drive/MyDrive/Data/Model Modifications/UBRB_precip/ubrb_prcp.csv', index=False)\n"
      ],
      "metadata": {
        "id": "k-3PdMOvzwHW"
      },
      "execution_count": null,
      "outputs": []
    },
    {
      "cell_type": "code",
      "source": [
        "#---------------------#\n",
        "#        Scale        #\n",
        "#---------------------#\n",
        "mean_precip = df['precip'].mean()\n",
        "std_dev_precip = df['precip'].std()\n",
        "df['precip_scaled'] = (df['precip'] - mean_precip) / std_dev_precip ** 2\n",
        "\n",
        "df = df.reset_index(drop=True)\n",
        "df.to_csv('/content/drive/MyDrive/Data/Model Modifications/UBRB_precip/ubrb_prcp_scaled.csv', index=False)"
      ],
      "metadata": {
        "id": "v1a2Xrj1zzd-"
      },
      "execution_count": null,
      "outputs": []
    },
    {
      "cell_type": "code",
      "source": [
        "## --------------------------------------------------- ##\n",
        "##   Regresion Plot: UBRB Water Year Precipitation     ##\n",
        "## --------------------------------------------------- ##\n",
        "\n",
        "df = pd.read_csv('/content/drive/MyDrive/Data/Model Modifications/UBRB_precip/ubrb_prcp.csv')\n",
        "\n",
        "sns.regplot(x=df[\"year\"], y=df[\"precip\"], marker='o', data=df)\n",
        "\n",
        "plt.title('Upper Boise River Basin Precipitation')\n",
        "plt.xlabel('Water Year')\n",
        "plt.ylabel('Precipitation (units)')"
      ],
      "metadata": {
        "id": "sYRZK8Khz1wY"
      },
      "execution_count": null,
      "outputs": []
    },
    {
      "cell_type": "markdown",
      "source": [
        "##**LBRB precip** : For reference"
      ],
      "metadata": {
        "id": "Rfl0iTWI0CnJ"
      }
    },
    {
      "cell_type": "code",
      "source": [
        "# Load the shapefile\n",
        "lbrb = emap.shp_to_ee('/content/drive/MyDrive/Data/GIS Shapefiles/LBRB_shp/LBRB_file.shp') # converts shapefile to feature in GEE\n",
        "\n",
        "\n",
        "years = np.arange(1987,2021)\n",
        "wy_pr = []\n",
        "\n",
        "for i in range(len(years)):\n",
        "  daymet = ee.ImageCollection(\"NASA/ORNL/DAYMET_V4\").filterDate((str(years[i]-1)+'-10-01'), (str(years[i])+'-09-30')) #get image collection for entire year\n",
        "  pr = daymet.select('prcp').map(lambda image: image.clip(lbrb)).sum().set({'system:index': str(years[i])}) #select precip to analyze and sum\n",
        "  wy_pr.append(pr)\n",
        "\n",
        "annual_pr = ee.ImageCollection(annual_pr)\n",
        "\n",
        "\n",
        "out_stats = os.path.join('/content/drive/MyDrive/Data/Drains_Lower_Boise_River/data_output/UBRB_precip/lbrb_prcp.csv')\n",
        "emap.zonal_statistics(wy_pr, lbrb, out_stats, statistics_type='MEAN', scale=1000)"
      ],
      "metadata": {
        "id": "VD5LAaMV0DUn"
      },
      "execution_count": null,
      "outputs": []
    },
    {
      "cell_type": "code",
      "source": [
        "#---------------------#\n",
        "#        Clean        #\n",
        "#---------------------#\n",
        "#Purpose: reorganize csv file to make manageable\n",
        "\n",
        "#reload file\n",
        "data = pd.read_csv('/content/drive/MyDrive/Data/Model Modifications/UBRB_precip/lbrb_prcp.csv')\n",
        "\n",
        "df = pd.DataFrame(data)\n",
        "df = df.T #transpose df\n",
        "\n",
        "# Set the first row as the column names\n",
        "df.columns = df.iloc[0]\n",
        "df = df[0:]\n",
        "df = df.drop(df.index[34:]) #drop the last few lines\n",
        "\n",
        "# Reset the index and rename the columns\n",
        "df = df.reset_index()\n",
        "df.columns = ['year', 'precip']\n",
        "\n",
        "# Remove '_prcp' from the 'year' column\n",
        "df['year'] = df['year'].str.replace('_prcp', '')\n",
        "\n",
        "print(df)\n",
        "\n",
        "#save\n",
        "df.to_csv('/content/drive/MyDrive/Data/Model Modifications/UBRB_precip/lbrb_prcp.csv', index=False)"
      ],
      "metadata": {
        "id": "dPktE7NU0IN-"
      },
      "execution_count": null,
      "outputs": []
    },
    {
      "cell_type": "code",
      "source": [
        "#---------------------#\n",
        "#        Scale        #\n",
        "#---------------------#\n",
        "mean_precip = df['precip'].mean()\n",
        "std_dev_precip = df['precip'].std()\n",
        "df['precip_scaled'] = (df['precip'] - mean_precip) / std_dev_precip ** 2\n",
        "\n",
        "df = df.reset_index(drop=True)\n",
        "df.to_csv('/content/drive/MyDrive/Data/Model Modifications/UBRB_precip/lbrb_prcp_scaled.csv', index=False)"
      ],
      "metadata": {
        "id": "N58c5OcH0KF_"
      },
      "execution_count": null,
      "outputs": []
    },
    {
      "cell_type": "markdown",
      "source": [
        "## Figures"
      ],
      "metadata": {
        "id": "zOvJ0B15z-gS"
      }
    },
    {
      "cell_type": "code",
      "source": [
        "## --------------------------------------------------- ##\n",
        "##   Regresion Plot: UBRB Water Year Precipitation     ##\n",
        "## --------------------------------------------------- ##\n",
        "\n",
        "import numpy as np\n",
        "import matplotlib.pyplot as plt\n",
        "from sklearn.linear_model import LinearRegression\n",
        "from sklearn.metrics import r2_score\n",
        "import pandas as pd\n",
        "import seaborn as sns\n",
        "\n",
        "df = pd.read_csv('/content/drive/MyDrive/Data/Model Modifications/UBRB_precip/ubrb_prcp.csv')\n",
        "\n",
        "# Prepare the data\n",
        "X = df[['year']].values\n",
        "y = df['precip'].values\n",
        "\n",
        "# Create and fit the model\n",
        "model = LinearRegression()\n",
        "model.fit(X, y)\n",
        "\n",
        "# Predict using the model\n",
        "y_pred = model.predict(X)\n",
        "\n",
        "# Calculate the R^2 value\n",
        "r_squared = r2_score(y, y_pred)\n",
        "\n",
        "# Plot the data and the regression line\n",
        "sns.regplot(x='year', y='precip', data=df, marker='o', scatter_kws={'color': 'blue'}, line_kws={'color': 'red'})\n",
        "\n",
        "# Display the R^2 value on the plot\n",
        "plt.text(0.05, 0.95, f'$R^2 = {r_squared:.2f}$', fontsize=12, color='red', transform=plt.gca().transAxes)\n",
        "\n",
        "# Set plot labels and title\n",
        "plt.title('Upper Boise River Basin Precipitation')\n",
        "plt.xlabel('Water Year')\n",
        "plt.ylabel('Precipitation (units)')\n",
        "\n",
        "# Show plot\n",
        "plt.show()\n",
        "\n",
        "# Print the R^2 value\n",
        "print(f'R^2 Coefficient: {r_squared:.2f}')"
      ],
      "metadata": {
        "id": "tMrzQnEoz5_y"
      },
      "execution_count": null,
      "outputs": []
    },
    {
      "cell_type": "markdown",
      "source": [
        "## Comparison of UBRB & LBRB Water Year Precip"
      ],
      "metadata": {
        "id": "Y4ngnxwc0Njq"
      }
    },
    {
      "cell_type": "code",
      "source": [
        "ubrb = pd.read_csv('/content/drive/MyDrive/Data/Model Modifications/UBRB_precip/ubrb_prcp.csv')\n",
        "lbrb = pd.read_csv('/content/drive/MyDrive/Data/Model Modifications/UBRB_precip/lbrb_prcp.csv')\n",
        "\n",
        "# Add an identifier column to each DataFrame\n",
        "ubrb['Dataset'] = 'UBRB'\n",
        "lbrb['Dataset'] = 'LBRB'\n",
        "\n",
        "# Combine the datasets into one DataFrame\n",
        "combined_df = pd.concat([ubrb, lbrb])\n",
        "\n",
        "\n",
        "plt.figure(figsize=(12, 6))\n",
        "\n",
        "#specify color\n",
        "palette = {'UBRB': '#337DFF',  # Blue\n",
        "           'LBRB': '#EA1612'}  # Red\n",
        "\n",
        "sns.lineplot(\n",
        "    x='year',\n",
        "    y='precip',\n",
        "    hue='Dataset',\n",
        "    style='Dataset',\n",
        "    data=combined_df,\n",
        "    palette=palette,\n",
        "    markers=True,  # Enable markers for each line\n",
        "    dashes={'UBRB': '', 'LBRB': (2, 2)}  # Dash pattern for each dataset\n",
        ")\n",
        "\n",
        "\n",
        "plt.title('Comparison of Precipitation in the Upper and Lower Boise River Basin')\n",
        "plt.xlabel('Year')\n",
        "plt.ylabel('Precipitation (units)')\n",
        "plt.legend(title='Dataset')\n",
        "\n",
        "plt.savefig('/content/drive/MyDrive/Carli Thesis/Figures/Model Figures/UBRB_LBRB_WY_Precip.tiff', format='tiff', dpi=300, bbox_inches='tight')\n",
        "\n",
        "plt.show()\n",
        "plt.close()"
      ],
      "metadata": {
        "id": "4NothDcZ0NTi"
      },
      "execution_count": null,
      "outputs": []
    }
  ]
}