{
  "nbformat": 4,
  "nbformat_minor": 0,
  "metadata": {
    "colab": {
      "provenance": [],
      "authorship_tag": "ABX9TyNO0twlo5h5FzZE0TsVZLfr",
      "include_colab_link": true
    },
    "kernelspec": {
      "name": "python3",
      "display_name": "Python 3"
    },
    "language_info": {
      "name": "python"
    }
  },
  "cells": [
    {
      "cell_type": "markdown",
      "metadata": {
        "id": "view-in-github",
        "colab_type": "text"
      },
      "source": [
        "<a href=\"https://colab.research.google.com/github/carlibeisel/pod_pou_lulcc/blob/main/05_data_compilation.ipynb\" target=\"_parent\"><img src=\"https://colab.research.google.com/assets/colab-badge.svg\" alt=\"Open In Colab\"/></a>"
      ]
    },
    {
      "cell_type": "markdown",
      "source": [
        "Modified by Carli Beisel\n",
        "\n",
        "Adapted from code written by Bridget Bittmann (2023, Github: bridgetmarie24)\n",
        "\n",
        "Date originally created: 04/04/2022\n",
        "\n",
        "Date modified: April 16, 2024\n",
        "\n",
        "Purpose: This compiles climate, land use, and flow diversion outputs and puts them in a usable, long-format csv file to import into R.\n"
      ],
      "metadata": {
        "id": "UDBBkZiWDsFb"
      }
    },
    {
      "cell_type": "code",
      "execution_count": 1,
      "metadata": {
        "id": "RMAXVVigs0bv",
        "colab": {
          "base_uri": "https://localhost:8080/"
        },
        "outputId": "3660c1af-3da1-4151-cd1d-f2749f9525f9"
      },
      "outputs": [
        {
          "output_type": "stream",
          "name": "stdout",
          "text": [
            "Mounted at /content/gdrive\n"
          ]
        }
      ],
      "source": [
        "## --------------- ##\n",
        "## IMPORT PACKAGES ##\n",
        "## --------------- ##\n",
        "\n",
        "import pandas as pd # to work with dataframe\n",
        "import os # for file paths\n",
        "import glob # read in a folder of csv\n",
        "import numpy as np # basic statistics\n",
        "\n",
        "from google.colab import drive\n",
        "drive.mount('/content/gdrive', force_remount=True)"
      ]
    },
    {
      "cell_type": "code",
      "source": [
        "## -------------------- ##\n",
        "## IMPORT ALL DATASETS ##\n",
        "## -------------------- ##\n",
        "\n",
        "div_files = pd.read_csv('/content/gdrive/MyDrive/Data/pod_pou_lulcc/data_output/diversion_timeseries_out/model_inputs.csv')\n",
        "land_files = sorted(glob.glob('/content/gdrive/MyDrive/Data/pod_pou_lulcc/data_output/subset_LULCC_out/final_metrics/*.csv'))\n",
        "climate_files = sorted(glob.glob('/content/gdrive/MyDrive/Data/pod_pou_lulcc/data_output/extract_gridmet_out/final/*.csv'))\n",
        "hydromet = pd.read_csv('/content/gdrive/MyDrive/Data/pod_pou_lulcc/data_output/hydromet_data_out/model_input_hydromet.csv')\n",
        "common_name_flow = pd.read_csv('/content/gdrive/MyDrive/Data/pod_pou_lulcc/data_input/diversion_timeseries/relates/name_dictionary_flow.csv')\n",
        "common_name_spatial = pd.read_csv('/content/gdrive/MyDrive/Data/pod_pou_lulcc/data_input/diversion_timeseries/relates/name_dictionary_spatial.csv')\n",
        "POUSize = pd.read_csv('/content/gdrive/MyDrive/Data/pod_pou_lulcc/data_input/diversion_timeseries/relates/POUSize.csv')\n",
        "storage = pd.read_csv('/content/gdrive/MyDrive/Data/pod_pou_lulcc/data_input/diversion_timeseries/WRA_BoiseBasin.csv')\n",
        "quantiles = pd.read_csv('/content/gdrive/MyDrive/Data/pod_pou_lulcc/data_input/diversion_timeseries/quantiles.csv')\n",
        "ubrb_prcp = pd.read_csv('/content/gdrive/MyDrive/Data/Model Modifications/UBRB_precip/ubrb_prcp.csv')\n",
        "water_rights = pd.read_csv('/content/gdrive/MyDrive/Data/Model Modifications/div_water_rights/final_div_wr.csv')\n",
        "#irrigation_change = pd.read_csv('/content/gdrive/MyDrive/Data/Model Modifications/div_irrigation_change/div_irrigation_model_input.csv')"
      ],
      "metadata": {
        "id": "om26d_fDD5DQ"
      },
      "execution_count": 2,
      "outputs": []
    },
    {
      "cell_type": "code",
      "source": [
        "## --------------------------------- ##\n",
        "## CREATE COMMON NAME TO MERGE FILES ##\n",
        "## --------------------------------- ##\n",
        "\n",
        "div = div_files\n",
        "\n",
        "div_dict = dict(zip(common_name_flow['DiversionName'], common_name_flow['NewName']))\n",
        "div['NewName'] = div['Name'].map(div_dict)\n",
        "div = div.drop(['Unnamed: 0', 'Name'], axis=1).rename({'NewName' : 'Name'}, axis = 1)\n",
        "\n",
        "\n",
        "# Import land use change data\n",
        "\n",
        "land_data = []\n",
        "for i in land_files:\n",
        "  land_data.append(pd.read_csv(i))\n",
        "\n",
        "land = pd.concat(land_data)\n",
        "\n",
        "# Land use dictionary\n",
        "\n",
        "shape_dict = dict(zip(common_name_spatial['WaterRight'], common_name_spatial['NewName']))\n",
        "land['Name'] = land['DivName'].map(shape_dict)\n",
        "land = land.drop(['Unnamed: 0', 'DivName'], axis=1)\n",
        "POUSize['Name'] = POUSize['WaterRight'].map(shape_dict)\n",
        "POUSize = POUSize.drop(['WaterRight'], axis=1)\n",
        "\n",
        "# Import climate zonal stats\n",
        "\n",
        "clim_data = []\n",
        "for i in climate_files:\n",
        "  clim_data.append(pd.read_csv(i))\n",
        "clim = pd.concat(clim_data)\n",
        "\n",
        "# Use shapefile dictionary on climate data\n",
        "\n",
        "clim['Name'] = clim['DIV_NAME'].map(shape_dict)\n",
        "clim = clim.drop(['Unnamed: 0', 'DIV_NAME'], axis=1)\n",
        "\n",
        "# UBRB precip\n",
        "ubrb_prcp = ubrb_prcp.rename(columns={'year': 'Year'}) #rename to fit column structure\n",
        "ubrb_prcp = ubrb_prcp.rename(columns = {'precip':'ubrb_prcp'}) #rename to fit column structure\n",
        "\n",
        "# Irrigation Change\n",
        "#irrigation_change = irrigation_change.rename(columns = {'Predicted_Proportion': 'pivot_prop'}) #rename to fit column structure\n",
        "\n",
        "# Water Rights\n",
        "water_rights['Year'] = pd.to_numeric(water_rights['Year'], errors='coerce')\n",
        "water_rights = water_rights.rename(columns = {'Diversion': 'Name'}) #rename to fit column structure"
      ],
      "metadata": {
        "id": "xwQD2JeRD7TJ"
      },
      "execution_count": 3,
      "outputs": []
    },
    {
      "cell_type": "code",
      "source": [
        "## -------------------------------------- ##\n",
        "## MERGE DIVERSION DATA TO MATCH THE POUS ##\n",
        "## -------------------------------------- ##\n",
        "\n",
        "# Create function to do this\n",
        "\n",
        "def merge_flows(data, name):\n",
        "  '''\n",
        "  This function will merge two different flow datasets into one for completely overlapping POUs.\n",
        "\n",
        "  Variables:\n",
        "  data : The full diversion dataset\n",
        "  name : A string of the new name for each POU.\n",
        "  '''\n",
        "  old_df = data[data['Name']== name].reset_index().drop('index', axis=1)\n",
        "  new_df = pd.DataFrame()\n",
        "  new_df['Year'] = old_df['Year'].unique()\n",
        "  new_df['Name'] = old_df['Name'][0:34]\n",
        "  sums = old_df.groupby('Year').sum().reset_index()\n",
        "  new_df['Diversion (cfs)'] = sums['Diversion (cfs)']\n",
        "  new_df['Acre_feet'] = sums['Acre_feet']\n",
        "  # quants = old_df['Quantiles'].groupby('Year').max().reset_index()\n",
        "\n",
        "  startday = []\n",
        "  start_date = []\n",
        "  endday = []\n",
        "  range = []\n",
        "  end_date = []\n",
        "  censored = []\n",
        "\n",
        "  for i in new_df['Year']:\n",
        "    yearly = old_df[old_df['Year'] == i]\n",
        "    start = np.min(yearly['StartDayofYear'].values)\n",
        "    startdate = yearly['StartDate'][yearly['StartDayofYear']==start].values\n",
        "    end = np.max(yearly['EndDayofYear'].values)\n",
        "    enddate = yearly['EndDate'][yearly['EndDayofYear']==end].values\n",
        "    censor = str(yearly['Censor'].head(1))\n",
        "    startday.append(start)\n",
        "    endday.append(end)\n",
        "    range.append(end-start)\n",
        "    start_date.append(startdate[0])\n",
        "    end_date.append(enddate[0])\n",
        "    censored.append(censor)\n",
        "\n",
        "  new_df['StartDate'] = start_date\n",
        "  new_df['StartDayofYear'] = startday\n",
        "  new_df['EndDate'] = end_date\n",
        "  new_df['EndDayofYear'] = endday\n",
        "  new_df['Time'] = range\n",
        "  new_df['Censor'] = censored\n",
        "\n",
        "  return new_df\n"
      ],
      "metadata": {
        "id": "XzTLrzuTD_8M"
      },
      "execution_count": 4,
      "outputs": []
    },
    {
      "cell_type": "code",
      "source": [
        "## ------------------------------------- ##\n",
        "## MERGE DIVERSION DATASET WITH NEW DATA ##\n",
        "## ------------------------------------- ##\n",
        "\n",
        "# Create a list of names that have completely shared POUs\n",
        "merge_names = ['Shipley and Wagner Pumps', 'Rossi Mill and Meeves Canals', 'Boise City Parks']\n",
        "\n",
        "merged = []\n",
        "for i in merge_names:\n",
        "  new = merge_flows(div, i)\n",
        "  div = div[div['Name'] != i] #Remove old dataframes from full dataset\n",
        "  div = pd.concat([div, new])\n",
        "  merged.append(new)\n",
        "\n",
        "div = div.sort_values(by=['Name', 'Year']).reset_index().drop('index',axis=1)\n"
      ],
      "metadata": {
        "id": "HURI1a3_ECbI"
      },
      "execution_count": 5,
      "outputs": []
    },
    {
      "cell_type": "code",
      "source": [
        "## ---------------------------------- ##\n",
        "##  MERGE ALL FILES INTO ONE FILE     ##\n",
        "## ---------------------------------- ##\n",
        "\n",
        "land_div = div.merge(land, left_on=['Year', 'Name'], right_on=['dates','Name'], how='left')\n",
        "full_df = land_div.merge(clim, left_on=['Year','Name'], right_on=['Year', 'Name'], how='left').sort_values(by=['Name', 'Year'])\n",
        "full_df = full_df.merge(hydromet, left_on='Year', right_on='Year', how='left').drop(['Unnamed: 0', 'dates'], axis=1)\n",
        "full_df = full_df.merge(POUSize, left_on = 'Name', right_on = 'Name', how = 'left')\n",
        "full_df = full_df.merge(storage, left_on = ['Year', 'Name'], right_on = ['Year', 'Name'])\n",
        "\n",
        "\n",
        "full_df = full_df.merge(water_rights, on = ['Year', 'Name'], how = 'left')\n",
        "#full_df = full_df.merge(irrigation_change, on = ['Year', 'Name'], how = 'left')\n",
        "full_df.fillna(0, inplace=True) #fills empty cells with 0\n",
        "full_df = full_df.merge(ubrb_prcp, on='Year', how='inner')\n",
        "#full_df = quantiles.merge(full_df, left_on = ['Year', 'Name'], right_on = ['Year', 'Name'])\n",
        "merge_final = pd.merge(full_df, hydromet, on='Year', how='left') #adds in water year ubrb prcp for each diversion"
      ],
      "metadata": {
        "id": "Cud757EGb52N"
      },
      "execution_count": 6,
      "outputs": []
    },
    {
      "cell_type": "code",
      "source": [
        "## ------------------------------- ##\n",
        "##  Remove/Rename some columns     ##\n",
        "## ------------------------------- ##\n",
        "\n",
        "merge_final.columns\n",
        "merge_final = merge_final.drop(['Unnamed: 0','Unnamed: 5', 'Unnamed: 6', 'LP_inflows_y','Max_Fill_y', 'Carryover_y'], axis=1)\n",
        "merge_final = merge_final.rename({'LP_inflows_x': 'LP_inflows', 'Max_Fill_x': 'Max_Fill', 'Carryover_x': 'Carryover'}, axis=1)"
      ],
      "metadata": {
        "id": "sqqOXlrYsIje"
      },
      "execution_count": 7,
      "outputs": []
    },
    {
      "cell_type": "code",
      "source": [
        "## --------------------------------------- ##\n",
        "## Export the full csv file for model in R ##\n",
        "## --------------------------------------- ##\n",
        "\n",
        "# Specify the order of columns for later analysis scripts\n",
        "desired_order = ['Year', 'Acre_feet', 'Diversion (cfs)', 'Irrigation Year', 'SiteID', 'Month', 'DayofYear','Sum','StartDate','StartDayofYear','EndDate','EndDayofYear','Time','Censor','_merge','Name','class1_urban','class2_crops','contagion','largest_patch_index','ant_prcp','irrig_prcp','irrig_temp','JuneAug_temp','et','Mar_et','Mar_tmp','Mar_prcp','LP_inflows','Max_Fill','Carryover','Size_acres','AF_used','AF_remaining','AF_available', 'ubrb_prcp', 'gw_wr','sw_wr', 'total_wr']\n",
        "merge_final = merge_final[desired_order]\n",
        "\n",
        "out_path = '/content/gdrive/MyDrive/Data/pod_pou_lulcc/data_output/data_compilation/merged/model_input_0906.csv'\n",
        "merge_final.to_csv(out_path)\n",
        "\n",
        "# Individual dataframe export\n",
        "\n",
        "individual_diversions = merge_final['Name'].unique()\n",
        "for i in individual_diversions:\n",
        "  df = merge_final[merge_final['Name'] == i]\n",
        "  out_path = os.path.join('/content/gdrive/MyDrive/Data/pod_pou_lulcc/data_output/'+i+'.csv')\n",
        "  df.to_csv(out_path)"
      ],
      "metadata": {
        "id": "00zaEGdJEE8o"
      },
      "execution_count": 8,
      "outputs": []
    }
  ]
}