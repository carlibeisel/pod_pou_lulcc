{
  "nbformat": 4,
  "nbformat_minor": 0,
  "metadata": {
    "colab": {
      "provenance": [],
      "authorship_tag": "ABX9TyNbX2U9H2OI/Tt5BrEn8CXc",
      "include_colab_link": true
    },
    "kernelspec": {
      "name": "python3",
      "display_name": "Python 3"
    },
    "language_info": {
      "name": "python"
    },
    "widgets": {
      "application/vnd.jupyter.widget-state+json": {
        "24522cb073bd4d96bfb66ce5da0ee7ac": {
          "model_module": "jupyter-leaflet",
          "model_name": "LeafletMapModel",
          "model_module_version": "^0.18",
          "state": {
            "_dom_classes": [],
            "_model_module": "jupyter-leaflet",
            "_model_module_version": "^0.18",
            "_model_name": "LeafletMapModel",
            "_view_count": null,
            "_view_module": "jupyter-leaflet",
            "_view_module_version": "^0.18",
            "_view_name": "LeafletMapView",
            "bottom": 24227,
            "bounce_at_zoom_limits": true,
            "box_zoom": true,
            "center": [
              43.615,
              -116.2023
            ],
            "close_popup_on_click": true,
            "controls": [
              "IPY_MODEL_3a5f84ce2be44965923526ff1cabcfd2",
              "IPY_MODEL_c9967e937cd140d1b908f54e47807b2c",
              "IPY_MODEL_8b0c1f5a15344148beea2845c18455fc",
              "IPY_MODEL_065c7363058b453eb95cbdbba29c5629",
              "IPY_MODEL_f3b8768464214f05b70621483ddfe3a7",
              "IPY_MODEL_42710b96df174ba2921f74d6a9ee03c1",
              "IPY_MODEL_f52fd3b3dcf84c158243b5f8b7688072",
              "IPY_MODEL_3d253dec46fd4b9784b89a5df45c1080"
            ],
            "crs": {
              "name": "EPSG3857",
              "custom": false
            },
            "default_style": "IPY_MODEL_1c68f515046c40d698fac2a21603ddd0",
            "double_click_zoom": true,
            "dragging": true,
            "dragging_style": "IPY_MODEL_7cbc359bcc144b8a9fdff44ac63126c3",
            "east": -113.48876953125001,
            "fullscreen": false,
            "inertia": true,
            "inertia_deceleration": 3000,
            "inertia_max_speed": 1500,
            "interpolation": "bilinear",
            "keyboard": true,
            "keyboard_pan_offset": 80,
            "keyboard_zoom_offset": 1,
            "layers": [
              "IPY_MODEL_57f0a1638bd24d19b7a5facb5e46d2a7",
              "IPY_MODEL_7ea05a2114fb4f23afca88ff98b09a66"
            ],
            "layout": "IPY_MODEL_299f8c8a6be14fdabaa88258f804959a",
            "left": 11121,
            "max_zoom": 24,
            "min_zoom": null,
            "modisdate": "2024-04-15",
            "north": 44.797428998555674,
            "options": [
              "bounce_at_zoom_limits",
              "box_zoom",
              "center",
              "close_popup_on_click",
              "double_click_zoom",
              "dragging",
              "fullscreen",
              "inertia",
              "inertia_deceleration",
              "inertia_max_speed",
              "interpolation",
              "keyboard",
              "keyboard_pan_offset",
              "keyboard_zoom_offset",
              "max_zoom",
              "min_zoom",
              "prefer_canvas",
              "scroll_wheel_zoom",
              "tap",
              "tap_tolerance",
              "touch_zoom",
              "world_copy_jump",
              "zoom",
              "zoom_animation_threshold",
              "zoom_delta",
              "zoom_snap"
            ],
            "panes": {},
            "prefer_canvas": false,
            "right": 12108,
            "scroll_wheel_zoom": true,
            "south": 42.4112905190282,
            "style": "IPY_MODEL_294e82e577b14b8d8f1c1d1491257a46",
            "tap": true,
            "tap_tolerance": 15,
            "top": 23627,
            "touch_zoom": true,
            "west": -118.91052246093751,
            "window_url": "https://8qd72nx005c-496ff2e9c6d22116-0-colab.googleusercontent.com/outputframe.html?vrz=colab_20240415-060146_RC00_624901883",
            "world_copy_jump": false,
            "zoom": 8,
            "zoom_animation_threshold": 4,
            "zoom_delta": 1,
            "zoom_snap": 1
          }
        },
        "3a5f84ce2be44965923526ff1cabcfd2": {
          "model_module": "jupyter-leaflet",
          "model_name": "LeafletWidgetControlModel",
          "model_module_version": "^0.18",
          "state": {
            "_model_module": "jupyter-leaflet",
            "_model_module_version": "^0.18",
            "_model_name": "LeafletWidgetControlModel",
            "_view_count": null,
            "_view_module": "jupyter-leaflet",
            "_view_module_version": "^0.18",
            "_view_name": "LeafletWidgetControlView",
            "max_height": null,
            "max_width": null,
            "min_height": null,
            "min_width": null,
            "options": [
              "position",
              "transparent_bg"
            ],
            "position": "topleft",
            "transparent_bg": false,
            "widget": "IPY_MODEL_0aa714978668443484ce9f3f6fed182c"
          }
        },
        "c9967e937cd140d1b908f54e47807b2c": {
          "model_module": "jupyter-leaflet",
          "model_name": "LeafletZoomControlModel",
          "model_module_version": "^0.18",
          "state": {
            "_model_module": "jupyter-leaflet",
            "_model_module_version": "^0.18",
            "_model_name": "LeafletZoomControlModel",
            "_view_count": null,
            "_view_module": "jupyter-leaflet",
            "_view_module_version": "^0.18",
            "_view_name": "LeafletZoomControlView",
            "options": [
              "position",
              "zoom_in_text",
              "zoom_in_title",
              "zoom_out_text",
              "zoom_out_title"
            ],
            "position": "topleft",
            "zoom_in_text": "+",
            "zoom_in_title": "Zoom in",
            "zoom_out_text": "-",
            "zoom_out_title": "Zoom out"
          }
        },
        "8b0c1f5a15344148beea2845c18455fc": {
          "model_module": "jupyter-leaflet",
          "model_name": "LeafletFullScreenControlModel",
          "model_module_version": "^0.18",
          "state": {
            "_model_module": "jupyter-leaflet",
            "_model_module_version": "^0.18",
            "_model_name": "LeafletFullScreenControlModel",
            "_view_count": null,
            "_view_module": "jupyter-leaflet",
            "_view_module_version": "^0.18",
            "_view_name": "LeafletFullScreenControlView",
            "options": [
              "position"
            ],
            "position": "topleft"
          }
        },
        "065c7363058b453eb95cbdbba29c5629": {
          "model_module": "jupyter-leaflet",
          "model_name": "LeafletDrawControlModel",
          "model_module_version": "^0.18",
          "state": {
            "_model_module": "jupyter-leaflet",
            "_model_module_version": "^0.18",
            "_model_name": "LeafletDrawControlModel",
            "_view_count": null,
            "_view_module": "jupyter-leaflet",
            "_view_module_version": "^0.18",
            "_view_name": "LeafletDrawControlView",
            "circle": {},
            "circlemarker": {},
            "data": [],
            "edit": true,
            "marker": {
              "shapeOptions": {
                "color": "#3388ff"
              }
            },
            "options": [
              "position"
            ],
            "polygon": {
              "shapeOptions": {}
            },
            "polyline": {
              "shapeOptions": {}
            },
            "position": "topleft",
            "rectangle": {
              "shapeOptions": {
                "color": "#3388ff"
              }
            },
            "remove": true
          }
        },
        "f3b8768464214f05b70621483ddfe3a7": {
          "model_module": "jupyter-leaflet",
          "model_name": "LeafletScaleControlModel",
          "model_module_version": "^0.18",
          "state": {
            "_model_module": "jupyter-leaflet",
            "_model_module_version": "^0.18",
            "_model_name": "LeafletScaleControlModel",
            "_view_count": null,
            "_view_module": "jupyter-leaflet",
            "_view_module_version": "^0.18",
            "_view_name": "LeafletScaleControlView",
            "imperial": true,
            "max_width": 100,
            "metric": true,
            "options": [
              "imperial",
              "max_width",
              "metric",
              "position",
              "update_when_idle"
            ],
            "position": "bottomleft",
            "update_when_idle": false
          }
        },
        "42710b96df174ba2921f74d6a9ee03c1": {
          "model_module": "jupyter-leaflet",
          "model_name": "LeafletMeasureControlModel",
          "model_module_version": "^0.18",
          "state": {
            "_custom_units": {},
            "_model_module": "jupyter-leaflet",
            "_model_module_version": "^0.18",
            "_model_name": "LeafletMeasureControlModel",
            "_view_count": null,
            "_view_module": "jupyter-leaflet",
            "_view_module_version": "^0.18",
            "_view_name": "LeafletMeasureControlView",
            "active_color": "orange",
            "capture_z_index": 10000,
            "completed_color": "#C8F2BE",
            "options": [
              "active_color",
              "capture_z_index",
              "completed_color",
              "popup_options",
              "position",
              "primary_area_unit",
              "primary_length_unit",
              "secondary_area_unit",
              "secondary_length_unit"
            ],
            "popup_options": {
              "className": "leaflet-measure-resultpopup",
              "autoPanPadding": [
                10,
                10
              ]
            },
            "position": "bottomleft",
            "primary_area_unit": "acres",
            "primary_length_unit": "kilometers",
            "secondary_area_unit": null,
            "secondary_length_unit": null
          }
        },
        "f52fd3b3dcf84c158243b5f8b7688072": {
          "model_module": "jupyter-leaflet",
          "model_name": "LeafletWidgetControlModel",
          "model_module_version": "^0.18",
          "state": {
            "_model_module": "jupyter-leaflet",
            "_model_module_version": "^0.18",
            "_model_name": "LeafletWidgetControlModel",
            "_view_count": null,
            "_view_module": "jupyter-leaflet",
            "_view_module_version": "^0.18",
            "_view_name": "LeafletWidgetControlView",
            "max_height": null,
            "max_width": null,
            "min_height": null,
            "min_width": null,
            "options": [
              "position",
              "transparent_bg"
            ],
            "position": "topright",
            "transparent_bg": false,
            "widget": "IPY_MODEL_606ae97ea22848eba5e25a9bc8c1d814"
          }
        },
        "3d253dec46fd4b9784b89a5df45c1080": {
          "model_module": "jupyter-leaflet",
          "model_name": "LeafletAttributionControlModel",
          "model_module_version": "^0.18",
          "state": {
            "_model_module": "jupyter-leaflet",
            "_model_module_version": "^0.18",
            "_model_name": "LeafletAttributionControlModel",
            "_view_count": null,
            "_view_module": "jupyter-leaflet",
            "_view_module_version": "^0.18",
            "_view_name": "LeafletAttributionControlView",
            "options": [
              "position",
              "prefix"
            ],
            "position": "bottomright",
            "prefix": "ipyleaflet"
          }
        },
        "1c68f515046c40d698fac2a21603ddd0": {
          "model_module": "jupyter-leaflet",
          "model_name": "LeafletMapStyleModel",
          "model_module_version": "^0.18",
          "state": {
            "_model_module": "jupyter-leaflet",
            "_model_module_version": "^0.18",
            "_model_name": "LeafletMapStyleModel",
            "_view_count": null,
            "_view_module": "@jupyter-widgets/base",
            "_view_module_version": "1.2.0",
            "_view_name": "StyleView",
            "cursor": "grab"
          }
        },
        "7cbc359bcc144b8a9fdff44ac63126c3": {
          "model_module": "jupyter-leaflet",
          "model_name": "LeafletMapStyleModel",
          "model_module_version": "^0.18",
          "state": {
            "_model_module": "jupyter-leaflet",
            "_model_module_version": "^0.18",
            "_model_name": "LeafletMapStyleModel",
            "_view_count": null,
            "_view_module": "@jupyter-widgets/base",
            "_view_module_version": "1.2.0",
            "_view_name": "StyleView",
            "cursor": "move"
          }
        },
        "57f0a1638bd24d19b7a5facb5e46d2a7": {
          "model_module": "jupyter-leaflet",
          "model_name": "LeafletTileLayerModel",
          "model_module_version": "^0.18",
          "state": {
            "_model_module": "jupyter-leaflet",
            "_model_module_version": "^0.18",
            "_model_name": "LeafletTileLayerModel",
            "_view_count": null,
            "_view_module": "jupyter-leaflet",
            "_view_module_version": "^0.18",
            "_view_name": "LeafletTileLayerView",
            "attribution": "&copy; <a href=\"https://www.openstreetmap.org/copyright\">OpenStreetMap</a> contributors",
            "base": true,
            "bottom": true,
            "bounds": null,
            "detect_retina": false,
            "loading": false,
            "max_native_zoom": null,
            "max_zoom": 19,
            "min_native_zoom": null,
            "min_zoom": 1,
            "name": "OpenStreetMap.Mapnik",
            "no_wrap": false,
            "opacity": 1,
            "options": [
              "attribution",
              "bounds",
              "detect_retina",
              "max_native_zoom",
              "max_zoom",
              "min_native_zoom",
              "min_zoom",
              "no_wrap",
              "tile_size",
              "tms",
              "zoom_offset"
            ],
            "pane": "",
            "popup": null,
            "popup_max_height": null,
            "popup_max_width": 300,
            "popup_min_width": 50,
            "show_loading": false,
            "subitems": [],
            "tile_size": 256,
            "tms": false,
            "url": "https://tile.openstreetmap.org/{z}/{x}/{y}.png",
            "visible": true,
            "zoom_offset": 0
          }
        },
        "7ea05a2114fb4f23afca88ff98b09a66": {
          "model_module": "jupyter-leaflet",
          "model_name": "LeafletTileLayerModel",
          "model_module_version": "^0.18",
          "state": {
            "_model_module": "jupyter-leaflet",
            "_model_module_version": "^0.18",
            "_model_name": "LeafletTileLayerModel",
            "_view_count": null,
            "_view_module": "jupyter-leaflet",
            "_view_module_version": "^0.18",
            "_view_name": "LeafletTileLayerView",
            "attribution": "Google Earth Engine",
            "base": false,
            "bottom": true,
            "bounds": null,
            "detect_retina": false,
            "loading": false,
            "max_native_zoom": null,
            "max_zoom": 24,
            "min_native_zoom": null,
            "min_zoom": 0,
            "name": "prcp",
            "no_wrap": false,
            "opacity": 1,
            "options": [
              "attribution",
              "bounds",
              "detect_retina",
              "max_native_zoom",
              "max_zoom",
              "min_native_zoom",
              "min_zoom",
              "no_wrap",
              "tile_size",
              "tms",
              "zoom_offset"
            ],
            "pane": "",
            "popup": null,
            "popup_max_height": null,
            "popup_max_width": 300,
            "popup_min_width": 50,
            "show_loading": false,
            "subitems": [],
            "tile_size": 256,
            "tms": false,
            "url": "https://earthengine.googleapis.com/v1/projects/extract-gridmet/maps/a2ba3d700cfabfed71ca488ab53285d2-93324f8cfcd6c8b7e4b6ace82a328f5e/tiles/{z}/{x}/{y}",
            "visible": true,
            "zoom_offset": 0
          }
        },
        "299f8c8a6be14fdabaa88258f804959a": {
          "model_module": "@jupyter-widgets/base",
          "model_name": "LayoutModel",
          "model_module_version": "1.2.0",
          "state": {
            "_model_module": "@jupyter-widgets/base",
            "_model_module_version": "1.2.0",
            "_model_name": "LayoutModel",
            "_view_count": null,
            "_view_module": "@jupyter-widgets/base",
            "_view_module_version": "1.2.0",
            "_view_name": "LayoutView",
            "align_content": null,
            "align_items": null,
            "align_self": null,
            "border": null,
            "bottom": null,
            "display": null,
            "flex": null,
            "flex_flow": null,
            "grid_area": null,
            "grid_auto_columns": null,
            "grid_auto_flow": null,
            "grid_auto_rows": null,
            "grid_column": null,
            "grid_gap": null,
            "grid_row": null,
            "grid_template_areas": null,
            "grid_template_columns": null,
            "grid_template_rows": null,
            "height": "600px",
            "justify_content": null,
            "justify_items": null,
            "left": null,
            "margin": null,
            "max_height": null,
            "max_width": null,
            "min_height": null,
            "min_width": null,
            "object_fit": null,
            "object_position": null,
            "order": null,
            "overflow": null,
            "overflow_x": null,
            "overflow_y": null,
            "padding": null,
            "right": null,
            "top": null,
            "visibility": null,
            "width": null
          }
        },
        "294e82e577b14b8d8f1c1d1491257a46": {
          "model_module": "jupyter-leaflet",
          "model_name": "LeafletMapStyleModel",
          "model_module_version": "^0.18",
          "state": {
            "_model_module": "jupyter-leaflet",
            "_model_module_version": "^0.18",
            "_model_name": "LeafletMapStyleModel",
            "_view_count": null,
            "_view_module": "@jupyter-widgets/base",
            "_view_module_version": "1.2.0",
            "_view_name": "StyleView",
            "cursor": "grab"
          }
        },
        "0aa714978668443484ce9f3f6fed182c": {
          "model_module": "@jupyter-widgets/controls",
          "model_name": "HBoxModel",
          "model_module_version": "1.5.0",
          "state": {
            "_dom_classes": [
              "geemap-colab"
            ],
            "_model_module": "@jupyter-widgets/controls",
            "_model_module_version": "1.5.0",
            "_model_name": "HBoxModel",
            "_view_count": null,
            "_view_module": "@jupyter-widgets/controls",
            "_view_module_version": "1.5.0",
            "_view_name": "HBoxView",
            "box_style": "",
            "children": [
              "IPY_MODEL_083d8d2277d843088cdd78129881bd0e"
            ],
            "layout": "IPY_MODEL_dc5f843c4eaf4f8caa1581f0d79b09fb"
          }
        },
        "606ae97ea22848eba5e25a9bc8c1d814": {
          "model_module": "@jupyter-widgets/controls",
          "model_name": "VBoxModel",
          "model_module_version": "1.5.0",
          "state": {
            "_dom_classes": [
              "geemap-colab"
            ],
            "_model_module": "@jupyter-widgets/controls",
            "_model_module_version": "1.5.0",
            "_model_name": "VBoxModel",
            "_view_count": null,
            "_view_module": "@jupyter-widgets/controls",
            "_view_module_version": "1.5.0",
            "_view_name": "VBoxView",
            "box_style": "",
            "children": [
              "IPY_MODEL_36950f452228484abc100c168544f073"
            ],
            "layout": "IPY_MODEL_89ff2607877c4dd18c526e35a54046a1"
          }
        },
        "083d8d2277d843088cdd78129881bd0e": {
          "model_module": "@jupyter-widgets/controls",
          "model_name": "ToggleButtonModel",
          "model_module_version": "1.5.0",
          "state": {
            "_dom_classes": [],
            "_model_module": "@jupyter-widgets/controls",
            "_model_module_version": "1.5.0",
            "_model_name": "ToggleButtonModel",
            "_view_count": null,
            "_view_module": "@jupyter-widgets/controls",
            "_view_module_version": "1.5.0",
            "_view_name": "ToggleButtonView",
            "button_style": "",
            "description": "",
            "description_tooltip": null,
            "disabled": false,
            "icon": "globe",
            "layout": "IPY_MODEL_94f59c043437499cabe41c1a93350020",
            "style": "IPY_MODEL_e4dd3d1d8e6c4952a78acbf64d9e63f7",
            "tooltip": "Search location/data",
            "value": false
          }
        },
        "dc5f843c4eaf4f8caa1581f0d79b09fb": {
          "model_module": "@jupyter-widgets/base",
          "model_name": "LayoutModel",
          "model_module_version": "1.2.0",
          "state": {
            "_model_module": "@jupyter-widgets/base",
            "_model_module_version": "1.2.0",
            "_model_name": "LayoutModel",
            "_view_count": null,
            "_view_module": "@jupyter-widgets/base",
            "_view_module_version": "1.2.0",
            "_view_name": "LayoutView",
            "align_content": null,
            "align_items": null,
            "align_self": null,
            "border": null,
            "bottom": null,
            "display": null,
            "flex": null,
            "flex_flow": null,
            "grid_area": null,
            "grid_auto_columns": null,
            "grid_auto_flow": null,
            "grid_auto_rows": null,
            "grid_column": null,
            "grid_gap": null,
            "grid_row": null,
            "grid_template_areas": null,
            "grid_template_columns": null,
            "grid_template_rows": null,
            "height": null,
            "justify_content": null,
            "justify_items": null,
            "left": null,
            "margin": null,
            "max_height": null,
            "max_width": null,
            "min_height": null,
            "min_width": null,
            "object_fit": null,
            "object_position": null,
            "order": null,
            "overflow": null,
            "overflow_x": null,
            "overflow_y": null,
            "padding": null,
            "right": null,
            "top": null,
            "visibility": null,
            "width": null
          }
        },
        "36950f452228484abc100c168544f073": {
          "model_module": "@jupyter-widgets/controls",
          "model_name": "ToggleButtonModel",
          "model_module_version": "1.5.0",
          "state": {
            "_dom_classes": [],
            "_model_module": "@jupyter-widgets/controls",
            "_model_module_version": "1.5.0",
            "_model_name": "ToggleButtonModel",
            "_view_count": null,
            "_view_module": "@jupyter-widgets/controls",
            "_view_module_version": "1.5.0",
            "_view_name": "ToggleButtonView",
            "button_style": "",
            "description": "",
            "description_tooltip": null,
            "disabled": false,
            "icon": "wrench",
            "layout": "IPY_MODEL_ecb4110895c64a33b99a22d841bb7f25",
            "style": "IPY_MODEL_064e275d9cbb4191b7cda4887d15a02a",
            "tooltip": "Toolbar",
            "value": false
          }
        },
        "89ff2607877c4dd18c526e35a54046a1": {
          "model_module": "@jupyter-widgets/base",
          "model_name": "LayoutModel",
          "model_module_version": "1.2.0",
          "state": {
            "_model_module": "@jupyter-widgets/base",
            "_model_module_version": "1.2.0",
            "_model_name": "LayoutModel",
            "_view_count": null,
            "_view_module": "@jupyter-widgets/base",
            "_view_module_version": "1.2.0",
            "_view_name": "LayoutView",
            "align_content": null,
            "align_items": null,
            "align_self": null,
            "border": null,
            "bottom": null,
            "display": null,
            "flex": null,
            "flex_flow": null,
            "grid_area": null,
            "grid_auto_columns": null,
            "grid_auto_flow": null,
            "grid_auto_rows": null,
            "grid_column": null,
            "grid_gap": null,
            "grid_row": null,
            "grid_template_areas": null,
            "grid_template_columns": null,
            "grid_template_rows": null,
            "height": null,
            "justify_content": null,
            "justify_items": null,
            "left": null,
            "margin": null,
            "max_height": null,
            "max_width": null,
            "min_height": null,
            "min_width": null,
            "object_fit": null,
            "object_position": null,
            "order": null,
            "overflow": null,
            "overflow_x": null,
            "overflow_y": null,
            "padding": null,
            "right": null,
            "top": null,
            "visibility": null,
            "width": null
          }
        },
        "94f59c043437499cabe41c1a93350020": {
          "model_module": "@jupyter-widgets/base",
          "model_name": "LayoutModel",
          "model_module_version": "1.2.0",
          "state": {
            "_model_module": "@jupyter-widgets/base",
            "_model_module_version": "1.2.0",
            "_model_name": "LayoutModel",
            "_view_count": null,
            "_view_module": "@jupyter-widgets/base",
            "_view_module_version": "1.2.0",
            "_view_name": "LayoutView",
            "align_content": null,
            "align_items": null,
            "align_self": null,
            "border": null,
            "bottom": null,
            "display": null,
            "flex": null,
            "flex_flow": null,
            "grid_area": null,
            "grid_auto_columns": null,
            "grid_auto_flow": null,
            "grid_auto_rows": null,
            "grid_column": null,
            "grid_gap": null,
            "grid_row": null,
            "grid_template_areas": null,
            "grid_template_columns": null,
            "grid_template_rows": null,
            "height": "28px",
            "justify_content": null,
            "justify_items": null,
            "left": null,
            "margin": null,
            "max_height": null,
            "max_width": null,
            "min_height": null,
            "min_width": null,
            "object_fit": null,
            "object_position": null,
            "order": null,
            "overflow": null,
            "overflow_x": null,
            "overflow_y": null,
            "padding": "0px 0px 0px 4px",
            "right": null,
            "top": null,
            "visibility": null,
            "width": "28px"
          }
        },
        "e4dd3d1d8e6c4952a78acbf64d9e63f7": {
          "model_module": "@jupyter-widgets/controls",
          "model_name": "DescriptionStyleModel",
          "model_module_version": "1.5.0",
          "state": {
            "_model_module": "@jupyter-widgets/controls",
            "_model_module_version": "1.5.0",
            "_model_name": "DescriptionStyleModel",
            "_view_count": null,
            "_view_module": "@jupyter-widgets/base",
            "_view_module_version": "1.2.0",
            "_view_name": "StyleView",
            "description_width": ""
          }
        },
        "ecb4110895c64a33b99a22d841bb7f25": {
          "model_module": "@jupyter-widgets/base",
          "model_name": "LayoutModel",
          "model_module_version": "1.2.0",
          "state": {
            "_model_module": "@jupyter-widgets/base",
            "_model_module_version": "1.2.0",
            "_model_name": "LayoutModel",
            "_view_count": null,
            "_view_module": "@jupyter-widgets/base",
            "_view_module_version": "1.2.0",
            "_view_name": "LayoutView",
            "align_content": null,
            "align_items": null,
            "align_self": null,
            "border": null,
            "bottom": null,
            "display": null,
            "flex": null,
            "flex_flow": null,
            "grid_area": null,
            "grid_auto_columns": null,
            "grid_auto_flow": null,
            "grid_auto_rows": null,
            "grid_column": null,
            "grid_gap": null,
            "grid_row": null,
            "grid_template_areas": null,
            "grid_template_columns": null,
            "grid_template_rows": null,
            "height": "28px",
            "justify_content": null,
            "justify_items": null,
            "left": null,
            "margin": null,
            "max_height": null,
            "max_width": null,
            "min_height": null,
            "min_width": null,
            "object_fit": null,
            "object_position": null,
            "order": null,
            "overflow": null,
            "overflow_x": null,
            "overflow_y": null,
            "padding": "0px 0px 0px 4px",
            "right": null,
            "top": null,
            "visibility": null,
            "width": "28px"
          }
        },
        "064e275d9cbb4191b7cda4887d15a02a": {
          "model_module": "@jupyter-widgets/controls",
          "model_name": "DescriptionStyleModel",
          "model_module_version": "1.5.0",
          "state": {
            "_model_module": "@jupyter-widgets/controls",
            "_model_module_version": "1.5.0",
            "_model_name": "DescriptionStyleModel",
            "_view_count": null,
            "_view_module": "@jupyter-widgets/base",
            "_view_module_version": "1.2.0",
            "_view_name": "StyleView",
            "description_width": ""
          }
        }
      }
    }
  },
  "cells": [
    {
      "cell_type": "markdown",
      "metadata": {
        "id": "view-in-github",
        "colab_type": "text"
      },
      "source": [
        "<a href=\"https://colab.research.google.com/github/carlibeisel/pod_pou_lulcc/blob/main/extract_gridmet.ipynb\" target=\"_parent\"><img src=\"https://colab.research.google.com/assets/colab-badge.svg\" alt=\"Open In Colab\"/></a>"
      ]
    },
    {
      "cell_type": "markdown",
      "source": [
        "Modified by Carli Beisel\n",
        "\n",
        "Adapted from code written by Bridget Bittmann (2023, Github: bridgetmarie24)\n",
        "\n",
        "Date originally created: March 28, 2022\n",
        "\n",
        "Date modified: April 16, 2024"
      ],
      "metadata": {
        "id": "Sb3Xq_VityB-"
      }
    },
    {
      "cell_type": "markdown",
      "source": [
        "Purpose: This script extracts DayMET data from Google Earth Engine using the Earth Engine API in Python. This script also copied over a SSEBop ET data dataset and calculated zonal stats based on polygons."
      ],
      "metadata": {
        "id": "kcBTygYPtHWr"
      }
    },
    {
      "cell_type": "code",
      "source": [
        "# Installs geemap package\n",
        "import subprocess\n",
        "!pip install geemap #added\n",
        "\n",
        "try:\n",
        "    import geemap\n",
        "except ImportError:\n",
        "    print('geemap package not installed. Installing ...')\n",
        "    subprocess.check_call([\"python\", '-m', 'pip', 'install', 'geemap'])\n",
        "\n",
        "# Checks whether this notebook is running on Google Colab\n",
        "try:\n",
        "    import google.colab\n",
        "    import geemap.eefolium as emap\n",
        "except:\n",
        "    import geemap as emap\n",
        "\n",
        "# Authenticates and initializes Earth Engine\n",
        "import ee\n",
        "\n",
        "try:\n",
        "    ee.Initialize()\n",
        "except Exception as e:\n",
        "    ee.Authenticate()\n",
        "    ee.Initialize(project = 'extract-gridmet') #input and create project on google earth engiine"
      ],
      "metadata": {
        "id": "kOxvw1AhsVNI"
      },
      "execution_count": null,
      "outputs": []
    },
    {
      "cell_type": "code",
      "source": [
        "!pip install geopandas\n",
        "import geopandas as gpd #import independent shapefile\n",
        "import json #for metadata of shapefile\n",
        "import os #for file paths\n",
        "import numpy as np #for stats and arrays\n",
        "import pandas as pd #for dataframes"
      ],
      "metadata": {
        "id": "Rs23_BretJv-"
      },
      "execution_count": null,
      "outputs": []
    },
    {
      "cell_type": "code",
      "source": [
        "#Connect to Google Drive if you want to export images\n",
        "from google.colab import drive\n",
        "drive.mount('/content/drive')"
      ],
      "metadata": {
        "id": "tm1tEigztPpO"
      },
      "execution_count": null,
      "outputs": []
    },
    {
      "cell_type": "code",
      "source": [
        "## ------------------------------------------------------- ##\n",
        "## 1. Import shapefile and start/end dates to clip dataset ##\n",
        "## ------------------------------------------------------- ##\n",
        "!pip install pycrs\n",
        "\n",
        "start_end = pd.read_csv('/content/drive/MyDrive/Data/Datasets from Bridget/pod_pou_lulcc/diversion_timeseries_spatial/relates/se_dates_102622.csv')\n",
        "shp_file = '/content/drive/MyDrive/Data/Datasets from Bridget/pod_pou_lulcc/POUs/POUs_EDIT_060622_Merge.shp'\n",
        "subset = emap.shp_to_ee(shp_file) # converts shapefile to feature in GEE\n",
        "bpbc = emap.shp_to_ee('/content/drive/MyDrive/Data/Datasets from Bridget/pod_pou_lulcc/extract_gridmet/BPBC_Divisions/BPBC_Divisions-IDTM.shp')\n",
        "\n",
        "map=emap.Map(center=(43.6150, -116.2023),zoom=8)\n",
        "map.addLayer(ee.Image().paint(bpbc, 0, 2), {}, 'POU')\n",
        "map.addLayerControl()\n",
        "map"
      ],
      "metadata": {
        "id": "IJUUV2jUtVeU"
      },
      "execution_count": null,
      "outputs": []
    },
    {
      "cell_type": "code",
      "source": [
        "## ---------------------------------------------------- ##\n",
        "## 2. IMPORT PRECIP, TEMP, and ET FOR IRRIGATION SEASON ##\n",
        "## ---------------------------------------------------- ##\n",
        "\n",
        "years = np.arange(1987,2021)\n",
        "\n",
        "# Empty lists to store images\n",
        "ir_tmp = []\n",
        "ir_pr = []\n",
        "mean_max = []\n",
        "et_irrig = []\n",
        "mar_tmp = []\n",
        "mar_prcp = []\n",
        "mar_et = []\n",
        "\n",
        "# Import image collection, subset to shapefile, take a statistics for a period of time,\n",
        "# and append the image to the designated list\n",
        "for i in range(len(years)):\n",
        "  mar = ee.ImageCollection(\"NASA/ORNL/DAYMET_V4\").filterDate((str(years[i])+'-03-01'), (str(years[i])+'-03-31'))\n",
        "  m_tmp  = mar.select('tmax').map(lambda image: image.clip(subset)).mean().set({'system:index': (str(years[i])+'-03')})\n",
        "  m_prcp  = mar.select('prcp').map(lambda image: image.clip(subset)).mean().set({'system:index': (str(years[i])+'-03')})\n",
        "  et_mar = ee.ImageCollection('projects/earthengine-legacy/assets/users/bridgetbittmann/ssebop/boise').filterDate((str(years[i])+'-03-01'), (str(years[i])+'-3-31'))\n",
        "  et_m = et_mar.map(lambda image: image.clip(subset)).sum().multiply(0.00001).set({'system:index': str(years[i])})\n",
        "  daymet = ee.ImageCollection(\"NASA/ORNL/DAYMET_V4\").filterDate(start_end['StartDate'][i], start_end['EndDate'][i]) #get image collection for irrigation season\n",
        "  daymet_hot = ee.ImageCollection(\"NASA/ORNL/DAYMET_V4\").filterDate((str(years[i])+'-06-01'), (str(years[i])+'-8-31')) #get image collection for June-Aug\n",
        "  mxtmp = daymet_hot.select('tmax').map(lambda image: image.clip(subset)).mean().set({'system:index':str(years[i])}) #select temp to analyze hot months and take mean\n",
        "  tmp = daymet.select('tmax').map(lambda image: image.clip(subset)).mean().set({'system:index':str(start_end['StartDate'][i])}) #select max temp to analyze and take mean\n",
        "  pr = daymet.select('prcp').map(lambda image: image.clip(subset)).sum().set({'system:index': str(start_end['StartDate'][i])}) #select precip to analyze and sum\n",
        "  ir_tmp.append(tmp)\n",
        "  ir_pr.append(pr)\n",
        "  mean_max.append(mxtmp)\n",
        "  mar_tmp.append(m_tmp)\n",
        "  mar_prcp.append(m_prcp)\n",
        "  mar_et.append(et_m)\n",
        "  start = start_end[start_end['Year'] == years[i]]\n",
        "  print(int(start['StartDayofYear'].head(1)))\n",
        "  if int(start['StartDayofYear'].head(1)) < 91:\n",
        "    et_data = ee.ImageCollection('projects/earthengine-legacy/assets/users/bridgetbittmann/ssebop/boise').filterDate((str(years[i])+'-03-01'), str(years[i])+'-10-31')\n",
        "    et = et_data.map(lambda image: image.clip(subset)).sum().multiply(0.00001).set({'system:index': str(years[i])}) # sum et and convert to meters\n",
        "  else:\n",
        "    et_data = ee.ImageCollection('projects/earthengine-legacy/assets/users/bridgetbittmann/ssebop/boise').filterDate((str(years[i])+'-04-01'), str(years[i])+'-10-31')\n",
        "    et = et_data.map(lambda image: image.clip(subset)).sum().multiply(0.00001).set({'system:index': str(years[i])}) # sum et and convert to meters\n",
        "  et_irrig.append(et)\n",
        "\n",
        "\n",
        "# Convert lists of images to image collection for zonal stats command\n",
        "et_irrig = ee.ImageCollection(et_irrig)\n",
        "ir_tmp = ee.ImageCollection(ir_tmp)\n",
        "ir_pr = ee.ImageCollection(ir_pr)\n",
        "means_max_temp = ee.ImageCollection(mean_max)"
      ],
      "metadata": {
        "id": "RGZy-ntOtYoH"
      },
      "execution_count": null,
      "outputs": []
    },
    {
      "cell_type": "code",
      "source": [
        "# Convert lists of images to image collection for zonal stats command\n",
        "et_irrig = ee.ImageCollection(et_irrig)\n",
        "ir_tmp = ee.ImageCollection(ir_tmp)\n",
        "ir_pr = ee.ImageCollection(ir_pr)\n",
        "means_max_temp = ee.ImageCollection(mean_max)\n",
        "et_march = ee.ImageCollection(mar_et)\n",
        "tmp_march = ee.ImageCollection(mar_tmp)\n",
        "prcp_march = ee.ImageCollection(mar_prcp)"
      ],
      "metadata": {
        "id": "rsRujwOMtcIV",
        "colab": {
          "base_uri": "https://localhost:8080/",
          "height": 17
        },
        "outputId": "53f299ca-7b01-467a-d4d0-7a9801141762"
      },
      "execution_count": null,
      "outputs": [
        {
          "output_type": "display_data",
          "data": {
            "text/plain": [
              "<IPython.core.display.HTML object>"
            ],
            "text/html": [
              "\n",
              "            <style>\n",
              "                .geemap-dark {\n",
              "                    --jp-widgets-color: white;\n",
              "                    --jp-widgets-label-color: white;\n",
              "                    --jp-ui-font-color1: white;\n",
              "                    --jp-layout-color2: #454545;\n",
              "                    background-color: #383838;\n",
              "                }\n",
              "\n",
              "                .geemap-dark .jupyter-button {\n",
              "                    --jp-layout-color3: #383838;\n",
              "                }\n",
              "\n",
              "                .geemap-colab {\n",
              "                    background-color: var(--colab-primary-surface-color, white);\n",
              "                }\n",
              "\n",
              "                .geemap-colab .jupyter-button {\n",
              "                    --jp-layout-color3: var(--colab-primary-surface-color, white);\n",
              "                }\n",
              "            </style>\n",
              "            "
            ]
          },
          "metadata": {}
        }
      ]
    },
    {
      "cell_type": "code",
      "source": [
        "## ---------------------------------------------------------------------- ##\n",
        "## 3. IMPORT THE DAYMET DATA FOR PRECIPITATION PRIOR TO IRRIGATION SEASON ##\n",
        "## ---------------------------------------------------------------------- ##\n",
        "\n",
        "# This will provide insight into antecedent moisture conditions for a POU.\n",
        "\n",
        "years = np.arange(1987,2021)\n",
        "ant_pr = []\n",
        "for i in range(len(years)):\n",
        "  daymet = ee.ImageCollection(\"NASA/ORNL/DAYMET_V4\").filterDate((str(years[i]-1)+'-10-31'), start_end['StartDate'][i]) #get image collection\n",
        "  prcp = daymet.select('prcp').map(lambda image: image.clip(subset)).sum().set({'system:index':str(i+1)}) #select the bands to analyze\n",
        "  ant_pr.append(prcp) #calculate the mean across all pixels\n",
        "\n",
        "ant_precip = ee.ImageCollection(ant_pr) #convert list of image to image collection for zonal stats command\n",
        "\n",
        "precip_vis = {\n",
        "  'min': 0,\n",
        "  'max': 544,\n",
        "  'palette': ['1621A2', 'white', 'cyan', 'green', 'yellow', 'orange', 'red'],\n",
        "}\n",
        "\n",
        "Map = emap.Map(center=(43.6150, -116.2023),zoom=8)\n",
        "Map.addLayer(ant_precip, precip_vis, 'prcp')\n",
        "Map"
      ],
      "metadata": {
        "id": "ArTmZqJiteQ5",
        "colab": {
          "base_uri": "https://localhost:8080/",
          "height": 621,
          "referenced_widgets": [
            "24522cb073bd4d96bfb66ce5da0ee7ac",
            "3a5f84ce2be44965923526ff1cabcfd2",
            "c9967e937cd140d1b908f54e47807b2c",
            "8b0c1f5a15344148beea2845c18455fc",
            "065c7363058b453eb95cbdbba29c5629",
            "f3b8768464214f05b70621483ddfe3a7",
            "42710b96df174ba2921f74d6a9ee03c1",
            "f52fd3b3dcf84c158243b5f8b7688072",
            "3d253dec46fd4b9784b89a5df45c1080",
            "1c68f515046c40d698fac2a21603ddd0",
            "7cbc359bcc144b8a9fdff44ac63126c3",
            "57f0a1638bd24d19b7a5facb5e46d2a7",
            "7ea05a2114fb4f23afca88ff98b09a66",
            "299f8c8a6be14fdabaa88258f804959a",
            "294e82e577b14b8d8f1c1d1491257a46",
            "0aa714978668443484ce9f3f6fed182c",
            "606ae97ea22848eba5e25a9bc8c1d814",
            "083d8d2277d843088cdd78129881bd0e",
            "dc5f843c4eaf4f8caa1581f0d79b09fb",
            "36950f452228484abc100c168544f073",
            "89ff2607877c4dd18c526e35a54046a1",
            "94f59c043437499cabe41c1a93350020",
            "e4dd3d1d8e6c4952a78acbf64d9e63f7",
            "ecb4110895c64a33b99a22d841bb7f25",
            "064e275d9cbb4191b7cda4887d15a02a"
          ]
        },
        "outputId": "92a83de8-995e-4f6a-afb0-fb80f0589713"
      },
      "execution_count": null,
      "outputs": [
        {
          "output_type": "display_data",
          "data": {
            "text/plain": [
              "<IPython.core.display.HTML object>"
            ],
            "text/html": [
              "\n",
              "            <style>\n",
              "                .geemap-dark {\n",
              "                    --jp-widgets-color: white;\n",
              "                    --jp-widgets-label-color: white;\n",
              "                    --jp-ui-font-color1: white;\n",
              "                    --jp-layout-color2: #454545;\n",
              "                    background-color: #383838;\n",
              "                }\n",
              "\n",
              "                .geemap-dark .jupyter-button {\n",
              "                    --jp-layout-color3: #383838;\n",
              "                }\n",
              "\n",
              "                .geemap-colab {\n",
              "                    background-color: var(--colab-primary-surface-color, white);\n",
              "                }\n",
              "\n",
              "                .geemap-colab .jupyter-button {\n",
              "                    --jp-layout-color3: var(--colab-primary-surface-color, white);\n",
              "                }\n",
              "            </style>\n",
              "            "
            ]
          },
          "metadata": {}
        },
        {
          "output_type": "display_data",
          "data": {
            "text/plain": [
              "Map(center=[43.615, -116.2023], controls=(WidgetControl(options=['position', 'transparent_bg'], widget=SearchD…"
            ],
            "application/vnd.jupyter.widget-view+json": {
              "version_major": 2,
              "version_minor": 0,
              "model_id": "24522cb073bd4d96bfb66ce5da0ee7ac"
            }
          },
          "metadata": {
            "application/vnd.jupyter.widget-view+json": {
              "colab": {
                "custom_widget_manager": {
                  "url": "https://ssl.gstatic.com/colaboratory-static/widgets/colab-cdn-widget-manager/2b70e893a8ba7c0f/manager.min.js"
                }
              }
            }
          }
        }
      ]
    },
    {
      "cell_type": "code",
      "source": [
        "## ------------------------ ##\n",
        "## 4. CALCULATE ZONAL STATS ##\n",
        "## ------------------------ ##\n",
        "\n",
        "# Allowed output formats: csv, shp, json, kml, kmz\n",
        "# Allowed statistics type: MEAN, MAXIMUM, MINIMUM, MEDIAN, STD, MIN_MAX, VARIANCE, SUM\n",
        "\n",
        "out_stats = os.path.join('/content/drive/MyDrive/Data/Datasets from Bridget/pod_pou_lulcc/extract_gridmet/climate_stats/JAtemp_stats.csv')\n",
        "emap.zonal_statistics(means_max_temp, subset, out_stats, statistics_type='MEAN', scale=1000)\n",
        "\n",
        "out_stats = os.path.join('/content/drive/MyDrive/Data/Datasets from Bridget/pod_pou_lulcc/extract_gridmet/climate_stats/ir_tmp_stats.csv')\n",
        "emap.zonal_statistics(ir_tmp, subset, out_stats, statistics_type='MEAN', scale=1000)\n",
        "\n",
        "out_stats = os.path.join('/content/drive/MyDrive/Data/Datasets from Bridget/pod_pou_lulcc/extract_gridmet/climate_stats/irrig_precip_stats.csv')\n",
        "emap.zonal_statistics(ir_pr, subset, out_stats, statistics_type='MEAN', scale=1000)\n",
        "\n",
        "out_stats = os.path.join('/content/drive/MyDrive/Data/Datasets from Bridget/pod_pou_lulcc/extract_gridmet/climate_stats/ant_precip_stats.csv')\n",
        "emap.zonal_statistics(ant_precip, subset, out_stats, statistics_type='MEAN', scale=1000)\n",
        "\n",
        "out_stats = os.path.join('/content/drive/MyDrive/Data/Datasets from Bridget/pod_pou_lulcc/extract_gridmet/climate_stats/et.csv')\n",
        "emap.zonal_statistics(et_irrig, subset, out_stats, statistics_type='MEAN', scale=30)\n",
        "\n",
        "out_stats = os.path.join('/content/drive/MyDrive/Data/Datasets from Bridget/pod_pou_lulcc/extract_gridmet/climate_stats/et_march.csv')\n",
        "emap.zonal_statistics(et_march, subset, out_stats, statistics_type='MEAN', scale=30)\n",
        "\n",
        "out_stats = os.path.join('/content/drive/MyDrive/Data/Datasets from Bridget/pod_pou_lulcc/extract_gridmet/climate_stats/tmp_march.csv')\n",
        "emap.zonal_statistics(tmp_march, subset, out_stats, statistics_type='MEAN', scale=1000)\n",
        "\n",
        "out_stats = os.path.join('/content/drive/MyDrive/Data/Datasets from Bridget/pod_pou_lulcc/extract_gridmet/climate_stats/prcp_march.csv')\n",
        "emap.zonal_statistics(prcp_march, subset, out_stats, statistics_type='MEAN', scale=30)"
      ],
      "metadata": {
        "id": "c5dozdR3tieK"
      },
      "execution_count": null,
      "outputs": []
    },
    {
      "cell_type": "code",
      "source": [
        "## ---------------------------------------------- ##\n",
        "## 5. CREATE CLIMATE STAT FOR EACH POU AND EXPORT ##\n",
        "## ---------------------------------------------- ##\n",
        "\n",
        "years = np.arange(1987,2021)\n",
        "ir_precip = pd.read_csv('/content/drive/MyDrive/Data/Datasets from Bridget/pod_pou_lulcc/extract_gridmet/climate_stats/irrig_precip_stats.csv')\n",
        "ant_precip = pd.read_csv('/content/drive/MyDrive/Data/Datasets from Bridget/pod_pou_lulcc/extract_gridmet/climate_stats/ant_precip_stats.csv')\n",
        "JA_temp = pd.read_csv('/content/drive/MyDrive/Data/Datasets from Bridget/pod_pou_lulcc/extract_gridmet/climate_stats/JAtemp_stats.csv')\n",
        "irrig_temp = pd.read_csv('/content/drive/MyDrive/Data/Datasets from Bridget/pod_pou_lulcc/extract_gridmet/climate_stats/ir_tmp_stats.csv')\n",
        "et_irrig = pd.read_csv('/content/drive/MyDrive/Data/Datasets from Bridget/pod_pou_lulcc/extract_gridmet/climate_stats/et.csv')\n",
        "## MARCH INFO##\n",
        "march_et = pd.read_csv('/content/drive/MyDrive/Data/Datasets from Bridget/pod_pou_lulcc/extract_gridmet/climate_stats/et_march.csv')\n",
        "march_tmp = pd.read_csv('/content/drive/MyDrive/Data/Datasets from Bridget/pod_pou_lulcc/extract_gridmet/climate_stats/tmp_march.csv')\n",
        "march_prcp = pd.read_csv('/content/drive/MyDrive/Data/Datasets from Bridget/pod_pou_lulcc/extract_gridmet/climate_stats/prcp_march.csv')\n",
        "\n",
        "\n",
        "names = et_irrig['WaterRight']\n",
        "\n",
        "for i in range(len(names)):\n",
        "  df = pd.DataFrame(years, columns=['Year'])\n",
        "  df['DIV_NAME'] = names[i]\n",
        "  df['ant_prcp'] = ant_precip.iloc[i,0:34].values\n",
        "  df['irrig_prcp'] = ir_precip.iloc[i,0:34].values\n",
        "  df['irrig_temp'] = irrig_temp.iloc[i,0:34].values\n",
        "  df['JuneAug_temp'] = JA_temp.iloc[i,0:34].values\n",
        "  df['et'] = et_irrig.iloc[i,0:34].values\n",
        "  df['Mar_et'] = march_et.iloc[i, 0:34].values\n",
        "  df['Mar_tmp'] = march_tmp.iloc[i, 0:34].values\n",
        "  df['Mar_prcp'] = march_prcp.iloc[i, 0:34].values\n",
        "  out_path = os.path.join('/content/drive/MyDrive/Data/Datasets from Bridget/pod_pou_lulcc/extract_gridmet/climate_stats/final/'+names[i]+'_climate.csv')\n",
        "  df.to_csv(out_path)"
      ],
      "metadata": {
        "id": "_vx0OuVStgf2",
        "colab": {
          "base_uri": "https://localhost:8080/",
          "height": 17
        },
        "outputId": "b911f5d4-4856-4add-8253-b4cdf3c3e37e"
      },
      "execution_count": null,
      "outputs": [
        {
          "output_type": "display_data",
          "data": {
            "text/plain": [
              "<IPython.core.display.HTML object>"
            ],
            "text/html": [
              "\n",
              "            <style>\n",
              "                .geemap-dark {\n",
              "                    --jp-widgets-color: white;\n",
              "                    --jp-widgets-label-color: white;\n",
              "                    --jp-ui-font-color1: white;\n",
              "                    --jp-layout-color2: #454545;\n",
              "                    background-color: #383838;\n",
              "                }\n",
              "\n",
              "                .geemap-dark .jupyter-button {\n",
              "                    --jp-layout-color3: #383838;\n",
              "                }\n",
              "\n",
              "                .geemap-colab {\n",
              "                    background-color: var(--colab-primary-surface-color, white);\n",
              "                }\n",
              "\n",
              "                .geemap-colab .jupyter-button {\n",
              "                    --jp-layout-color3: var(--colab-primary-surface-color, white);\n",
              "                }\n",
              "            </style>\n",
              "            "
            ]
          },
          "metadata": {}
        }
      ]
    }
  ]
}
