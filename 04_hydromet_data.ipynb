{
  "nbformat": 4,
  "nbformat_minor": 0,
  "metadata": {
    "colab": {
      "provenance": [],
      "authorship_tag": "ABX9TyMuU2Pve+1gtXTbBDC92wqI",
      "include_colab_link": true
    },
    "kernelspec": {
      "name": "python3",
      "display_name": "Python 3"
    },
    "language_info": {
      "name": "python"
    }
  },
  "cells": [
    {
      "cell_type": "markdown",
      "metadata": {
        "id": "view-in-github",
        "colab_type": "text"
      },
      "source": [
        "<a href=\"https://colab.research.google.com/github/carlibeisel/pod_pou_lulcc/blob/main/hydromet_data.ipynb\" target=\"_parent\"><img src=\"https://colab.research.google.com/assets/colab-badge.svg\" alt=\"Open In Colab\"/></a>"
      ]
    },
    {
      "cell_type": "markdown",
      "source": [
        "Modified by Carli Beisel\n",
        "\n",
        "Adapted from code written by Bridget Bittmann (2023, Github: bridgetmarie24)\n",
        "\n",
        "Date originally created: 05/24/2022\n",
        "\n",
        "Date modified: April 16, 2024\n",
        "\n",
        "Purpose: This script uses a pre-existing csv of hydromet data and takes summary statistics on Lucky Peak inflows and maximum reservoir storage for the three reservoirs in the system based on the water year."
      ],
      "metadata": {
        "id": "3VATZlagFdC4"
      }
    },
    {
      "cell_type": "code",
      "source": [
        "## --------------- ##\n",
        "## IMPORT PACKAGES ##\n",
        "## --------------- ##\n",
        "\n",
        "import numpy as np\n",
        "import pandas as pd\n",
        "import seaborn as sns\n",
        "import matplotlib.pyplot as plt"
      ],
      "metadata": {
        "id": "x3_w51YElxGI"
      },
      "execution_count": null,
      "outputs": []
    },
    {
      "cell_type": "code",
      "source": [
        "#Navigate to your directory\n",
        "\n",
        "from google.colab import drive\n",
        "drive.mount('/content/drive')"
      ],
      "metadata": {
        "colab": {
          "base_uri": "https://localhost:8080/"
        },
        "id": "o7WfZvmZl6zm",
        "outputId": "f1238501-187b-48ae-ded6-d0baaab79e1b"
      },
      "execution_count": null,
      "outputs": [
        {
          "output_type": "stream",
          "name": "stdout",
          "text": [
            "Mounted at /content/drive\n"
          ]
        }
      ]
    },
    {
      "cell_type": "code",
      "source": [
        "## --------------------- ##\n",
        "## IMPORT HDYROMET FILES ##\n",
        "## --------------------- ##\n",
        "\n",
        "hydromet = pd.read_csv('/content/drive/MyDrive/Data/Datasets from Bridget/pod_pou_lulcc/hydromet_data/reservoir_data.csv', parse_dates=['DateTime'])\n",
        "hydromet = hydromet[hydromet['DateTime']>='01-01-1986'].drop('Unnamed: 0', axis=1)"
      ],
      "metadata": {
        "id": "Pude_r3rl-rw"
      },
      "execution_count": null,
      "outputs": []
    },
    {
      "cell_type": "code",
      "source": [
        "## ---------------------------------------------- ##\n",
        "## SUM INFLOWS AND RESERVOIR FILL FOR WATER YEARS ##\n",
        "## ---------------------------------------------- ##\n",
        "\n",
        "years = np.arange(1987, 2021)\n",
        "\n",
        "hydromet = hydromet[hydromet['wy'].isin(years)]\n",
        "\n",
        "LP_inflows = pd.DataFrame(hydromet.groupby('wy').luc_id.sum())\n",
        "max_fill = hydromet.groupby('wy').total_storage.max()\n",
        "\n",
        "carryover = []\n",
        "for i in years:\n",
        "  subset = hydromet[hydromet['wy'] == i]\n",
        "  date = str(i-1)+'-10-31'\n",
        "  carry = int(subset['total_storage'][subset['DateTime'] == date].values)\n",
        "  carryover.append([carry, i])\n",
        "\n",
        "carryover = pd.DataFrame(carryover, columns=['Carryover','Year'])\n",
        "\n",
        "hydromet_new = LP_inflows.merge(max_fill, on='wy', how='left').reset_index()\n",
        "hydromet_new = hydromet_new.rename({'luc_id':'LP_inflows',\n",
        "                                    'total_storage':'Max_Fill',\n",
        "                                    'wy':'Year'}, axis=1)\n",
        "hydromet_new = hydromet_new.merge(carryover, on='Year', how='left')\n",
        "\n",
        "hydromet_new.to_csv('/content/drive/MyDrive/Data/Datasets from Bridget/pod_pou_lulcc/hydromet_data/mode_input_hydromet.csv')\n"
      ],
      "metadata": {
        "id": "SEczYkSbmAkJ"
      },
      "execution_count": null,
      "outputs": []
    }
  ]
}
